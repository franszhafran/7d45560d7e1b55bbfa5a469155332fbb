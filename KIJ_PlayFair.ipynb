{
  "nbformat": 4,
  "nbformat_minor": 0,
  "metadata": {
    "colab": {
      "provenance": []
    },
    "kernelspec": {
      "name": "python3",
      "display_name": "Python 3"
    },
    "language_info": {
      "name": "python"
    }
  },
  "cells": [
    {
      "cell_type": "code",
      "source": [
        "alphabetList = []\n",
        "for letter in range(ord('a'), ord('z')+1):\n",
        "  if(chr(letter) != 'j'):\n",
        "    alphabetList.append(chr(letter))"
      ],
      "metadata": {
        "id": "4A0ECeWzozAB"
      },
      "execution_count": 2,
      "outputs": []
    },
    {
      "cell_type": "code",
      "source": [
        "print(alphabetList)"
      ],
      "metadata": {
        "colab": {
          "base_uri": "https://localhost:8080/"
        },
        "id": "l0SDgL0OpTbA",
        "outputId": "7f4a3cf6-1bea-4547-ab6a-d10eabbaa5d7"
      },
      "execution_count": 3,
      "outputs": [
        {
          "output_type": "stream",
          "name": "stdout",
          "text": [
            "['a', 'b', 'c', 'd', 'e', 'f', 'g', 'h', 'i', 'k', 'l', 'm', 'n', 'o', 'p', 'q', 'r', 's', 't', 'u', 'v', 'w', 'x', 'y', 'z']\n"
          ]
        }
      ]
    },
    {
      "cell_type": "code",
      "source": [
        "key = 'monarchym'\n",
        "\n",
        "keyList = []\n",
        "keyTable = []\n",
        "# Append Key to Table\n",
        "for letter in key:\n",
        "  if letter not in keyList:\n",
        "    keyList.append(letter)\n",
        "# Append Alphabet to Table\n",
        "for letter in alphabetList:\n",
        "  if letter not in keyList:\n",
        "    keyList.append(letter)\n",
        "# Turn into 2D 5x5 list\n",
        "while keyList != []:\n",
        "  keyRow = []\n",
        "  for i in range(0,5):\n",
        "    if(keyList[0] is not None):\n",
        "      keyRow.append(keyList.pop(0))\n",
        "  keyTable.append(keyRow)\n"
      ],
      "metadata": {
        "id": "Vv76CePuqlyK"
      },
      "execution_count": 4,
      "outputs": []
    },
    {
      "cell_type": "code",
      "source": [
        "keyTable"
      ],
      "metadata": {
        "colab": {
          "base_uri": "https://localhost:8080/"
        },
        "id": "EIFlkOYguRcW",
        "outputId": "d74790b2-e78c-4443-cb99-23ac2dce9ff5"
      },
      "execution_count": null,
      "outputs": [
        {
          "output_type": "execute_result",
          "data": {
            "text/plain": [
              "[['m', 'o', 'n', 'a', 'r'],\n",
              " ['c', 'h', 'y', 'b', 'd'],\n",
              " ['e', 'f', 'g', 'i', 'k'],\n",
              " ['l', 'p', 'q', 's', 't'],\n",
              " ['u', 'v', 'w', 'x', 'z']]"
            ]
          },
          "metadata": {},
          "execution_count": 159
        }
      ]
    },
    {
      "cell_type": "code",
      "source": [
        "keyTable"
      ],
      "metadata": {
        "colab": {
          "base_uri": "https://localhost:8080/"
        },
        "id": "A_kUhrjOuZhT",
        "outputId": "07821395-1149-4976-f9fc-963183b7e754"
      },
      "execution_count": null,
      "outputs": [
        {
          "output_type": "execute_result",
          "data": {
            "text/plain": [
              "[['m', 'o', 'n', 'a', 'r'],\n",
              " ['c', 'h', 'y', 'b', 'd'],\n",
              " ['e', 'f', 'g', 'i', 'k'],\n",
              " ['l', 'p', 'q', 's', 't'],\n",
              " ['u', 'v', 'w', 'x', 'z']]"
            ]
          },
          "metadata": {},
          "execution_count": 130
        }
      ]
    },
    {
      "cell_type": "code",
      "source": [
        "def search(keyTable, char):\n",
        "  for i, x in enumerate(keyTable):\n",
        "    for a, b in enumerate(x):\n",
        "      if char == b:\n",
        "        return i,a\n",
        "\n",
        "def next_column(keyTable, char):\n",
        "  x, y = search(keyTable, char)\n",
        "  yNext = (y+1) % 5\n",
        "  return keyTable[x][yNext]\n",
        "\n",
        "def next_row(keyTable, char):\n",
        "  x, y = search(keyTable, char)\n",
        "  xNext = (x+1) % 5\n",
        "  return keyTable[xNext][y]\n",
        "\n",
        "def encrypt(keyTable, segment):\n",
        "  first = segment[0]\n",
        "  second = segment[1]\n",
        "  x_first, y_first = search(keyTable, first)\n",
        "  x_second, y_second = search(keyTable, second)\n",
        "  if x_first == x_second:\n",
        "    return \"{}{}\".format(\n",
        "        next_column(keyTable, first),\n",
        "        next_column(keyTable, second),\n",
        "    )\n",
        "  elif y_first == y_second:\n",
        "    return \"{}{}\".format(\n",
        "        next_row(keyTable, first),\n",
        "        next_row(keyTable, second),\n",
        "    )\n",
        "  else:\n",
        "    return \"{}{}\".format(keyTable[x_first][y_second], keyTable[x_second][y_first])\n",
        "\n",
        "plaintext = \"instruments\"\n",
        "result = []\n",
        "\n",
        "print(\"Key:\", key)\n",
        "print(\"Key Table\")\n",
        "for k in keyTable:\n",
        "  print(k)\n",
        "print()\n",
        "print(\"Plaintext:\", plaintext)\n",
        "\n",
        "# region - make diagraph and fill\n",
        "segments =  []\n",
        "ignore = False\n",
        "for i in range(len(plaintext)):\n",
        "  if ignore:\n",
        "    ignore = False\n",
        "    continue\n",
        "  nextIndex = i+1\n",
        "  if nextIndex == len(plaintext):\n",
        "    plaintext += \"z\"\n",
        "  c = plaintext[i]\n",
        "  cn = plaintext[nextIndex]\n",
        "  if c != cn:\n",
        "    segments.append(encrypt(keyTable, \"{}{}\".format(c, cn)))\n",
        "    ignore = True\n",
        "  else:\n",
        "    segments.append(encrypt(keyTable, \"{}{}\".format(c, \"x\")))\n",
        "  \n",
        "cipher = \"\".join(segments)\n",
        "print(\"Cipher:\", cipher)\n",
        "# region - make diagraph and fill\n"
      ],
      "metadata": {
        "colab": {
          "base_uri": "https://localhost:8080/"
        },
        "id": "SGaA3y6cy13l",
        "outputId": "f8424868-d99d-49ac-aec0-226a07070e13"
      },
      "execution_count": 14,
      "outputs": [
        {
          "output_type": "stream",
          "name": "stdout",
          "text": [
            "Key: monarchym\n",
            "Key Table\n",
            "['m', 'o', 'n', 'a', 'r']\n",
            "['c', 'h', 'y', 'b', 'd']\n",
            "['e', 'f', 'g', 'i', 'k']\n",
            "['l', 'p', 'q', 's', 't']\n",
            "['u', 'v', 'w', 'x', 'z']\n",
            "\n",
            "Plaintext: instruments\n",
            "Cipher: gatlmzclrqtx\n"
          ]
        }
      ]
    },
    {
      "cell_type": "code",
      "source": [],
      "metadata": {
        "id": "izdFMsx9D5IX"
      },
      "execution_count": null,
      "outputs": []
    }
  ]
}